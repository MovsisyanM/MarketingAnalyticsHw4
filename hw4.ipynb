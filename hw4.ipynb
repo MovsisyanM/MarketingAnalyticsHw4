{
 "cells": [
  {
   "cell_type": "code",
   "execution_count": 8,
   "metadata": {},
   "outputs": [],
   "source": [
    "import pandas as pd\n",
    "import numpy as np\n",
    "import networkx as nx\n",
    "import itertools\n",
    "import random\n",
    "from operator import itemgetter\n",
    "import matplotlib.pyplot as plt"
   ]
  },
  {
   "cell_type": "markdown",
   "metadata": {},
   "source": [
    "### 1. Create a directed graph"
   ]
  },
  {
   "cell_type": "code",
   "execution_count": 9,
   "metadata": {},
   "outputs": [],
   "source": [
    "graph = nx.DiGraph()"
   ]
  },
  {
   "cell_type": "code",
   "execution_count": 10,
   "metadata": {},
   "outputs": [
    {
     "data": {
      "text/plain": [
       "[['0', '1'], ['0', '2'], ['0', '3'], ['0', '4'], ['0', '5']]"
      ]
     },
     "execution_count": 10,
     "metadata": {},
     "output_type": "execute_result"
    }
   ],
   "source": [
    "with open(\"connections.txt\", \"r\") as f:\n",
    "    edges = [e.strip().split(\" \") for e in f.readlines()]\n",
    "\n",
    "edges[:5]"
   ]
  },
  {
   "cell_type": "code",
   "execution_count": 11,
   "metadata": {},
   "outputs": [],
   "source": [
    "graph.add_edges_from(edges)"
   ]
  },
  {
   "cell_type": "markdown",
   "metadata": {},
   "source": [
    "### 2. Which nodes are bridges?"
   ]
  },
  {
   "cell_type": "code",
   "execution_count": 12,
   "metadata": {},
   "outputs": [
    {
     "data": {
      "text/plain": [
       "1606"
      ]
     },
     "execution_count": 12,
     "metadata": {},
     "output_type": "execute_result"
    }
   ],
   "source": [
    "def find_bridge_nodes(graph):\n",
    "    bridge_nodes = set()\n",
    "\n",
    "    visited = set()\n",
    "    parent = dict()\n",
    "    low = dict()\n",
    "    disc = dict()\n",
    "\n",
    "    def dfs(u):\n",
    "        nonlocal time\n",
    "        children = 0\n",
    "        visited.add(u)\n",
    "        disc[u] = low[u] = time\n",
    "        time += 1\n",
    "\n",
    "        for v in graph.successors(u):\n",
    "            if v not in visited:\n",
    "                children += 1\n",
    "                parent[v] = u\n",
    "                dfs(v)\n",
    "\n",
    "                low[u] = min(low[u], low[v])\n",
    "\n",
    "                if low[v] > disc[u]:\n",
    "                    bridge_nodes.add(u)\n",
    "                    bridge_nodes.add(v)\n",
    "            elif v != parent[u]:\n",
    "                low[u] = min(low[u], disc[v])\n",
    "\n",
    "    time = 0\n",
    "    for node in graph.nodes():\n",
    "        if node not in visited:\n",
    "            parent[node] = None\n",
    "            dfs(node)\n",
    "\n",
    "    return bridge_nodes\n",
    "\n",
    "\n",
    "len((bridge_edges := find_bridge_nodes(graph)))"
   ]
  },
  {
   "cell_type": "code",
   "execution_count": 13,
   "metadata": {},
   "outputs": [
    {
     "data": {
      "text/plain": [
       "4039"
      ]
     },
     "execution_count": 13,
     "metadata": {},
     "output_type": "execute_result"
    }
   ],
   "source": [
    "len(graph.nodes)"
   ]
  },
  {
   "cell_type": "markdown",
   "metadata": {},
   "source": [
    "### 3. Show the density of the graph"
   ]
  },
  {
   "cell_type": "code",
   "execution_count": 14,
   "metadata": {},
   "outputs": [
    {
     "data": {
      "text/plain": [
       "0.0054099817517196435"
      ]
     },
     "execution_count": 14,
     "metadata": {},
     "output_type": "execute_result"
    }
   ],
   "source": [
    "nx.density(graph)"
   ]
  },
  {
   "cell_type": "markdown",
   "metadata": {},
   "source": [
    "the density value is quite low"
   ]
  },
  {
   "cell_type": "markdown",
   "metadata": {},
   "source": [
    "### 4. Show which nodes have the highest and lowest number of connections."
   ]
  },
  {
   "cell_type": "code",
   "execution_count": 15,
   "metadata": {},
   "outputs": [
    {
     "name": "stdout",
     "output_type": "stream",
     "text": [
      "Highest:  ['0', '3437', '1912', '1684', '107']\n"
     ]
    }
   ],
   "source": [
    "print(\"Highest: \", sorted(graph.nodes, key=graph.degree)[-5:])"
   ]
  },
  {
   "cell_type": "code",
   "execution_count": 16,
   "metadata": {},
   "outputs": [
    {
     "name": "stdout",
     "output_type": "stream",
     "text": [
      "Lowest:  ['11', '12', '15', '18', '37']\n"
     ]
    }
   ],
   "source": [
    "print(\"Lowest: \", sorted(graph.nodes, key=graph.degree)[:5])"
   ]
  },
  {
   "cell_type": "markdown",
   "metadata": {},
   "source": [
    "### 5. Show which nodes have the highest incoming and outgoing connections"
   ]
  },
  {
   "cell_type": "code",
   "execution_count": 17,
   "metadata": {},
   "outputs": [],
   "source": [
    "in_degrees = dict(graph.in_degree())\n",
    "out_degrees = dict(graph.out_degree())\n",
    "\n",
    "sorted_in = sorted(list(in_degrees.keys()), key=lambda x: in_degrees[x])\n",
    "sorted_out = sorted(list(out_degrees.keys()), key=lambda x: out_degrees[x])"
   ]
  },
  {
   "cell_type": "code",
   "execution_count": 18,
   "metadata": {},
   "outputs": [
    {
     "name": "stdout",
     "output_type": "stream",
     "text": [
      "Highest in:  ['1827', '2611', '1800', '2543', '1888']\n",
      "Highest out:  ['0', '3437', '1912', '1684', '107']\n"
     ]
    }
   ],
   "source": [
    "print(\"Highest in: \", sorted_in[-5:])\n",
    "print(\"Highest out: \", sorted_out[-5:])"
   ]
  },
  {
   "cell_type": "code",
   "execution_count": 19,
   "metadata": {},
   "outputs": [
    {
     "name": "stdout",
     "output_type": "stream",
     "text": [
      "Lowest in:  ['0', '686', '1', '2', '3']\n",
      "Lowest out:  ['11', '12', '15', '18', '37']\n"
     ]
    }
   ],
   "source": [
    "print(\"Lowest in: \", sorted_in[:5])\n",
    "print(\"Lowest out: \", sorted_out[:5])"
   ]
  },
  {
   "cell_type": "markdown",
   "metadata": {},
   "source": [
    "### 6. Show which nodes have the highest closeness, betweenness, and eigenvector\n",
    "Interpret your findings"
   ]
  },
  {
   "cell_type": "code",
   "execution_count": 20,
   "metadata": {},
   "outputs": [
    {
     "data": {
      "text/plain": [
       "['1405', '563', '1718', '1912', '1684']"
      ]
     },
     "execution_count": 20,
     "metadata": {},
     "output_type": "execute_result"
    }
   ],
   "source": [
    "betweenness = nx.centrality.betweenness_centrality(graph)\n",
    "highest_betweenness_nodes = sorted(graph.nodes, key=betweenness.get)\n",
    "\n",
    "highest_betweenness_nodes[-5:]"
   ]
  },
  {
   "cell_type": "code",
   "execution_count": 21,
   "metadata": {},
   "outputs": [
    {
     "data": {
      "text/plain": [
       "['2543', '2643', '2629', '2649', '2642']"
      ]
     },
     "execution_count": 21,
     "metadata": {},
     "output_type": "execute_result"
    }
   ],
   "source": [
    "closeness = nx.centrality.closeness_centrality(graph)\n",
    "highest_closeness_nodes = sorted(graph.nodes, key=closeness.get)\n",
    "\n",
    "highest_closeness_nodes[-5:]"
   ]
  },
  {
   "cell_type": "code",
   "execution_count": 22,
   "metadata": {},
   "outputs": [
    {
     "data": {
      "text/plain": [
       "['2631', '2638', '2646', '2654', '2655']"
      ]
     },
     "execution_count": 22,
     "metadata": {},
     "output_type": "execute_result"
    }
   ],
   "source": [
    "eigenvector = nx.centrality.eigenvector_centrality(graph, max_iter=90000)\n",
    "highest_eigenvector_nodes = sorted(graph.nodes, key=eigenvector.get)\n",
    "\n",
    "highest_eigenvector_nodes[-5:]"
   ]
  },
  {
   "cell_type": "markdown",
   "metadata": {},
   "source": [
    "### 7. Implement a community detection algorithm on the directed graph and show how many communities were created."
   ]
  },
  {
   "cell_type": "code",
   "execution_count": 36,
   "metadata": {},
   "outputs": [
    {
     "name": "stdout",
     "output_type": "stream",
     "text": [
      "0\n",
      "Modularity: 1.1102230246251565e-16\n",
      "1\n",
      "Modularity: 0.0\n",
      "2\n",
      "Modularity: 0.0\n",
      "3\n",
      "Modularity: 0.0\n",
      "4\n",
      "Modularity: 0.0\n"
     ]
    }
   ],
   "source": [
    "community_size=5\n",
    "\n",
    "for i in range(community_size):\n",
    "    print(i)\n",
    "    # Convert the graph to an undirected graph\n",
    "    undirected_graph = graph.to_undirected()\n",
    "    edge_betweenness = nx.edge_betweenness_centrality(graph).items()\n",
    "    edge_to_delete = sorted(edge_betweenness, key=lambda pair: -pair[1])[0][0]\n",
    "    \n",
    "    graph.remove_edge(*edge_to_delete)\n",
    "\n",
    "\n",
    "    # Calculate connected components\n",
    "    communities = list(nx.connected_components(undirected_graph))\n",
    "    \n",
    "    # Calculate modularity\n",
    "    modularity = nx.community.quality.modularity(undirected_graph, communities)\n",
    "    print(\"Modularity:\", modularity)"
   ]
  },
  {
   "cell_type": "markdown",
   "metadata": {},
   "source": [
    "No modularity: the network is too connected for me to find anything with my computational resources"
   ]
  }
 ],
 "metadata": {
  "kernelspec": {
   "display_name": "Python 3",
   "language": "python",
   "name": "python3"
  },
  "language_info": {
   "codemirror_mode": {
    "name": "ipython",
    "version": 3
   },
   "file_extension": ".py",
   "mimetype": "text/x-python",
   "name": "python",
   "nbconvert_exporter": "python",
   "pygments_lexer": "ipython3",
   "version": "3.11.3"
  }
 },
 "nbformat": 4,
 "nbformat_minor": 2
}
